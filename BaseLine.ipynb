{
 "cells": [
  {
   "cell_type": "markdown",
   "metadata": {},
   "source": [
    "### 1. 주제 : OCR 기반 영수증 속 필수 정보 추출\n",
    "- 영수증 속에 있는 필요한 정보들을 일일이 사람이 확인하지 않아도 출력해주는 AI Model을 1차적으로 개발하고자 한다.\n",
    "- 최종적으로 영수증을 찍으면 가계부에 자동으로 기입이 되는 프로그램을 개발하는 것이 목적이다.\n",
    "- 필수정보의 예시\n",
    "    - 구매하는 물건의 이름, 수량, 가격, 총액\n",
    "    - 점포 및 주소\n",
    "    - 시간\n",
    "- 기타정보의 예시\n",
    "    - WIFI 비밀번호\n",
    "    - 화장실 비밀번호\n",
    "- 추가정보의 예시\n",
    "    - 점포의 이름이 정확하게 나오지 않는 경우 구매하는 물건을 통해 점포의 카테고리를 예측해 알려준다.\n",
    "\n",
    "### 2. 개발 환경\n",
    "(1) OS : windows 10\n",
    "\n",
    "(2) python version : 3.8\n",
    "\n",
    "(3) gpu = rtx 3070ti\n",
    "\n",
    "(4) 형상 관리 : git, github\n",
    "\n",
    "(5) text editor : Vscode\n",
    "\n",
    "(6) DB : Maria DB, Mongo DB\n",
    "\n",
    "#### 3. 라이브러리 \n",
    "(1) pytorch : 1.7.1\n",
    "\n",
    "(2) torchvision : 0.8.2\n",
    "\n",
    "(3) torchaudio : 0.7.2\n",
    "\n",
    "(4) cuda : cu110\n",
    "\n",
    "(5) opencv : 4.0.1\n",
    "\n",
    "(6) matplotlib : 3.5.1"
   ]
  },
  {
   "cell_type": "markdown",
   "metadata": {},
   "source": [
    "## Time Table\n",
    "- 2021.12.26\n",
    "    - 내용 : 프로젝트 기획 및 초안 작성, github 연동, 개발 환경 설정 \n",
    "    - 추후계획 : 편의점, 카페, 식당에 대한 영수증 이미지를 10장씩 뽑아오고 Labeling 하기 "
   ]
  }
 ],
 "metadata": {
  "interpreter": {
   "hash": "8fc5174242677b8c456c11fc68770090ec9f6af4088f2eb802fc01b281a20ea2"
  },
  "kernelspec": {
   "display_name": "Python 3.8.12 64-bit ('OCR_Receipt': conda)",
   "language": "python",
   "name": "python3"
  },
  "language_info": {
   "codemirror_mode": {
    "name": "ipython",
    "version": 3
   },
   "file_extension": ".py",
   "mimetype": "text/x-python",
   "name": "python",
   "nbconvert_exporter": "python",
   "pygments_lexer": "ipython3",
   "version": "3.8.12"
  },
  "orig_nbformat": 4
 },
 "nbformat": 4,
 "nbformat_minor": 2
}
